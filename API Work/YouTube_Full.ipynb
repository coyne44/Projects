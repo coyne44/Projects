{
 "cells": [
  {
   "cell_type": "code",
   "execution_count": 4,
   "metadata": {},
   "outputs": [],
   "source": [
    "import pandas as pd\n",
    "from apiclient.discovery import build\n",
    "from datetime import datetime\n",
    "from pandas.io.json import json_normalize\n",
    "import json\n",
    "channel_id_1= 'UCKmkpoEqg1sOMGEiIysP8Tw'\n",
    "api_key = \n",
    "youtube = build('youtube','v3', developerKey = api_key)\n",
    "start_time = datetime(year=2017, month=6, day = 1).strftime('%Y-%m-%dT%H:%M:%SZ')\n",
    "end_time = datetime(year=2018, month=1, day = 1).strftime('%Y-%m-%dT%H:%M:%SZ')\n",
    "channelID = 'UCKmkpoEqg1sOMGEiIysP8Tw'\n",
    "\n",
    "def get_channel_videos(channel_id):\n",
    "    res = youtube.channels().list(id=channel_id, \n",
    "                              part='contentDetails').execute()\n",
    "    playlist_id = res['items'][0]['contentDetails']['relatedPlaylists']['uploads']\n",
    "    \n",
    "    videos = []\n",
    "    next_page_token = None\n",
    "    \n",
    "    while 1:\n",
    "        res = youtube.playlistItems().list(playlistId=playlist_id,\n",
    "                            part='snippet',\n",
    "                            maxResults=50,\n",
    "                            pageToken=next_page_token).execute()\n",
    "        \n",
    "        videos +=  res['items']\n",
    "        next_page_token = res.get('nextPageToken')\n",
    "        \n",
    "        if next_page_token is None:\n",
    "            break\n",
    "            \n",
    "    return videos\n",
    "\n",
    "videos = get_channel_videos(channelID)\n",
    "video_ids = list(map(lambda x:x['snippet']['resourceId']['videoId'], videos))\n",
    "\n",
    "def get_video_details(video_ids):\n",
    "    details = []\n",
    "    for i in range(0, len(video_ids), 50):\n",
    "        res = youtube.videos().list(id=','.join(video_ids[i:i+50]),\n",
    "                                  part='snippet,contentDetails,statistics',\n",
    "                                   ).execute()\n",
    "        details += res['items']\n",
    "        \n",
    "    return details\n",
    "\n",
    "fullDetails = get_video_details(video_ids)\n",
    "fullDetails = json_normalize(fullDetails)\n",
    "fullDetails = fullDetails[['id','snippet.channelId','contentDetails.duration','snippet.publishedAt','snippet.title','snippet.description','statistics.commentCount','statistics.dislikeCount','statistics.likeCount','statistics.viewCount']]\n",
    "\n",
    "for each in range(len(fullDetails['contentDetails.duration'])):\n",
    "    fullDetails['contentDetails.duration'][each] = fullDetails['contentDetails.duration'][each].replace('PT','').replace('M',':').replace('S','')\n",
    "    \n",
    "fullDetails['date'] = fullDetails['id']\n",
    "for each in range(len(fullDetails['date'])):\n",
    "    fullDetails['date'][each] = fullDetails['snippet.publishedAt'][each][:10]\n",
    "    \n",
    "fullDetails['time'] = fullDetails['id']\n",
    "for each in range(len(fullDetails)):\n",
    "    fullDetails['time'][each] = fullDetails['snippet.publishedAt'][each][-13:-5]\n",
    "    \n",
    "better_cols = {}\n",
    "for each in fullDetails.columns:\n",
    "    x = each.split('.')\n",
    "    better_cols[each] = x[-1]\n",
    "fullDetails = fullDetails.rename(columns = better_cols)\n",
    "fullDetails = fullDetails[['id', 'channelId', 'duration','date','time' ,'publishedAt', 'title', 'description',\n",
    "       'commentCount', 'dislikeCount', 'likeCount', 'viewCount']]\n",
    "\n",
    "#fullDetails.to_excel('Full_Details.xlsx') #If you want to export to Excel, remove #"
   ]
  },
  {
   "cell_type": "code",
   "execution_count": null,
   "metadata": {},
   "outputs": [],
   "source": [
    "import ipywidgets as widgets\n",
    "from ipywidgets import interact, interact_manual\n",
    "\n"
   ]
  },
  {
   "cell_type": "code",
   "execution_count": 3,
   "metadata": {},
   "outputs": [
    {
     "data": {
      "text/plain": [
       "6036"
      ]
     },
     "execution_count": 3,
     "metadata": {},
     "output_type": "execute_result"
    }
   ],
   "source": [
    "len(fullDetails)"
   ]
  },
  {
   "cell_type": "code",
   "execution_count": null,
   "metadata": {},
   "outputs": [],
   "source": []
  },
  {
   "cell_type": "code",
   "execution_count": null,
   "metadata": {},
   "outputs": [],
   "source": []
  },
  {
   "cell_type": "code",
   "execution_count": null,
   "metadata": {},
   "outputs": [],
   "source": []
  },
  {
   "cell_type": "code",
   "execution_count": null,
   "metadata": {},
   "outputs": [],
   "source": []
  },
  {
   "cell_type": "code",
   "execution_count": null,
   "metadata": {},
   "outputs": [],
   "source": []
  },
  {
   "cell_type": "code",
   "execution_count": null,
   "metadata": {},
   "outputs": [],
   "source": []
  }
 ],
 "metadata": {
  "kernelspec": {
   "display_name": "Python 3",
   "language": "python",
   "name": "python3"
  },
  "language_info": {
   "codemirror_mode": {
    "name": "ipython",
    "version": 3
   },
   "file_extension": ".py",
   "mimetype": "text/x-python",
   "name": "python",
   "nbconvert_exporter": "python",
   "pygments_lexer": "ipython3",
   "version": "3.6.8"
  }
 },
 "nbformat": 4,
 "nbformat_minor": 2
}
